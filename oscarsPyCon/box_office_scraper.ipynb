{
 "cells": [
  {
   "cell_type": "markdown",
   "metadata": {},
   "source": [
    "# Scraping Notebook to Support Box Office Analysis"
   ]
  },
  {
   "cell_type": "markdown",
   "metadata": {},
   "source": [
    "This notebook is a scraping notebook that look to create the data set required for later use in the analysis notebook.\n",
    "\n",
    "**NOTE**: This notebook creates a pickle file that contains the dataset required for the analysis. However, *THIS FILE HAS ALREADY BEEN CREATED* for running the analysis, and is termed BOdict.p available in this repository. Feel free to run this notebook to test the code, but the analysis notebook refers to the required pickle file without having to re-run this code to leverage the Process Notebook."
   ]
  },
  {
   "cell_type": "code",
   "execution_count": 1,
   "metadata": {
    "collapsed": false
   },
   "outputs": [],
   "source": [
    "%matplotlib inline \n",
    "from matplotlib import rcParams # special matplotlib argument for improved plots\n",
    "from bs4 import BeautifulSoup\n",
    "from collections import defaultdict \n",
    "from imdb import IMDb\n",
    "from pyquery import PyQuery as pq\n",
    "\n",
    "import numpy as np\n",
    "import pandas as pd\n",
    "import scipy.stats as stats\n",
    "import matplotlib.pyplot as plt\n",
    "import statsmodels.api as sm\n",
    "import cPickle as pickle\n",
    "import seaborn as sns\n",
    "sns.set_style(\"whitegrid\")\n",
    "sns.set_context(\"poster\")\n",
    "\n",
    "import io \n",
    "import time\n",
    "import requests\n",
    "import sklearn\n",
    "import warnings\n",
    "warnings.filterwarnings('ignore')"
   ]
  },
  {
   "cell_type": "markdown",
   "metadata": {},
   "source": [
    "### Scrape the movie gross Information from boxofficemojo.com "
   ]
  },
  {
   "cell_type": "code",
   "execution_count": 2,
   "metadata": {
    "collapsed": true
   },
   "outputs": [],
   "source": [
    "years = xrange(2009,2015)\n",
    "pages = xrange(1,9)\n",
    "year_pagetxt = {}\n",
    "for year in years: \n",
    "    pagestext = {}\n",
    "    for page in pages: \n",
    "        r = requests.get(\"http://www.boxofficemojo.com/yearly/chart/?page=%s&view=releasedate&view2=domestic&yr=%s&p=.htm\"%(page, year))\n",
    "        pagestext[page] = r.text\n",
    "        time.sleep(1)\n",
    "    year_pagetxt[year] = pagestext\n",
    "    \n"
   ]
  },
  {
   "cell_type": "code",
   "execution_count": 3,
   "metadata": {
    "collapsed": true
   },
   "outputs": [],
   "source": [
    "# This loop cycles through the data obtained on Box Office Mojo\n",
    "## And placed in a dictionary for recall later when folding in IMDb information\n",
    "movie_budget = defaultdict(list) \n",
    "for year in years: \n",
    "    for page in pages: \n",
    "        soup = BeautifulSoup(year_pagetxt[year][page], \"html.parser\")\n",
    "        rows = soup.find_all(\"font\", attrs={'size':'2'})\n",
    "           \n",
    "        start = 10 \n",
    "        for i in range(start,len(rows)-2):\n",
    "            t = rows[i].get_text()\n",
    "            if unicode('Summary of') in t: \n",
    "                break\n",
    "            elif (i-start) % 9 == 0: \n",
    "                movie_budget['rank'].append(t)\n",
    "            elif (i-start) % 9 == 1: \n",
    "                movie_budget['year'].append(year)\n",
    "                r = '('+str(year)\n",
    "                if unicode(r) in t: \n",
    "                    j = t.index(unicode(r))\n",
    "                    movie_budget['title'].append(t[:j])\n",
    "                else: \n",
    "                    movie_budget['title'].append(t)\n",
    "            elif (i-start) % 9 == 2: \n",
    "                movie_budget['studio'].append(t)\n",
    "            elif (i-start) % 9 == 3: \n",
    "                movie_budget['gross'].append(t)\n",
    "            elif (i-start) % 9 == 4: \n",
    "                movie_budget['gross theaters'].append(t)\n",
    "            elif (i-start) % 9 == 5: \n",
    "                movie_budget['opening'].append(t)\n",
    "            elif (i-start) % 9 == 6: \n",
    "                movie_budget['opening theaters'].append(t)\n",
    "            elif (i-start) % 9 == 7: \n",
    "                movie_budget['open'].append(t)\n",
    "            elif (i-start) % 9 == 8: \n",
    "                movie_budget['close'].append(t)"
   ]
  },
  {
   "cell_type": "markdown",
   "metadata": {},
   "source": [
    "###Scrape movie budget information from the-numbers.com "
   ]
  },
  {
   "cell_type": "code",
   "execution_count": 4,
   "metadata": {
    "collapsed": true
   },
   "outputs": [],
   "source": [
    "#the-numbers.com is a separate movie website that has the budgets for most major movies.\n",
    "r_numbers = requests.get(\"http://www.the-numbers.com/movie/budgets/all\")\n",
    "\n",
    "d_=pq(r_numbers.text)\n",
    "d_tables=pq(d_('table'))\n",
    "rows = pq(d_tables[0])('tr')"
   ]
  },
  {
   "cell_type": "code",
   "execution_count": 5,
   "metadata": {
    "collapsed": true
   },
   "outputs": [],
   "source": [
    "#This processes the budget information and passes it to a new dictionary\n",
    "budget = defaultdict(list)\n",
    "for j in range(1,len(rows)):\n",
    "    dat = pq(rows[j])('td')\n",
    "    for i in range(len(dat)):\n",
    "        if i % 6 == 1:\n",
    "            budget['year'].append(int(pq(dat[i])('a').text().split('/')[-1]))\n",
    "        elif i % 6 == 2:\n",
    "            t = pq(dat[i])('a').text()\n",
    "            if 'Birdman' in t:\n",
    "                budget['title'].append(t.split(' or ')[0])\n",
    "            else:\n",
    "                budget['title'].append(t)\n",
    "        elif i % 6 == 3: \n",
    "            budget['budget'].append(pq(dat[i]).text())"
   ]
  },
  {
   "cell_type": "markdown",
   "metadata": {},
   "source": [
    "### IMDbpy's 'search_movies' might return many movies related to our search. Our 'find_movie', finds the appropriate movie.\n",
    "\n",
    "To get precise information from IMDBpy, you must hold the specific movieid. However, movie id's are not published anywhere. Therefore, to get an id for a given movie, you must put the title and/or year into a 'search_movie function', which returns a list of movie objects that might contain any part of your search term. To obtain id's that best matches our requested title, we wrote a function 'find_movie', which returns the movie that is most similar to our desired title. "
   ]
  },
  {
   "cell_type": "code",
   "execution_count": 6,
   "metadata": {
    "collapsed": true
   },
   "outputs": [],
   "source": [
    "def find_movie(title, year,  movie_list):\n",
    "    \"\"\"\n",
    "    find_movie: given the movie title (type: string) that you desire, \n",
    "    the year (type:int) that your desired movie came out, and a list of \n",
    "    movies (type:list containing imdbpy movie objects), this functon will \n",
    "    return the movie object that has a title that best matches yours. \n",
    "    If there are no plausible matches, it will return None. \n",
    "    \"\"\"\n",
    "    # find movies that came out in the same year                                                                                                                                    \n",
    "    year_list = []\n",
    "    for movie in movie_list:\n",
    "        try:\n",
    "            if movie.data['year'] == int(year):\n",
    "                year_list.append(movie)\n",
    "        except:\n",
    "            continue\n",
    "    # if the years do not match, there is no match                                                                                                                                  \n",
    "    if len(year_list) < 1:\n",
    "        return None\n",
    "    else:\n",
    "        # process the desired title                                                                                                                                                         \n",
    "        sorted_title = \"\".join(sorted(title)).replace(\" \", \"\")\n",
    "        len_sorted_title = len(sorted_title)\n",
    "        # check whether movies that came out in the same year contain the same letters                                                                                                                      \n",
    "        counts = [0]*len(year_list)\n",
    "        for j in range(len(year_list)):\n",
    "            # process each movie title \n",
    "            movie_title = year_list[j]['title']\n",
    "            sorted_movie_title = \"\".join(sorted(movie_title)).replace(\" \", \"\")\n",
    "            if len_sorted_title == len(sorted_movie_title):\n",
    "                # if the title cannot be converted to a string it is not the correct title                                                                                                                                       \n",
    "                try:\n",
    "                    sorted_movie_title = str(sorted_movie_title)\n",
    "                except:\n",
    "                    continue\n",
    "                for i in range(len_sorted_title):\n",
    "                    if sorted_title[i].lower() == sorted_movie_title[i].lower():\n",
    "                        counts[j] += 1\n",
    "            else:\n",
    "                continue\n",
    "        \n",
    "        if max(counts) <= len_sorted_title: \n",
    "            k = counts.index(max(counts))\n",
    "        else: \n",
    "            k = counts.index(len_sorted_title)\n",
    "        if len(year_list) >= 1:\n",
    "            return year_list[k]\n",
    "        else:\n",
    "            return None"
   ]
  },
  {
   "cell_type": "markdown",
   "metadata": {},
   "source": [
    "### Combine movie ids, budget info, and gross info into one dictionary, BOdict \n",
    "\n",
    "Note: This script takes 2-3 hours to complete. "
   ]
  },
  {
   "cell_type": "code",
   "execution_count": null,
   "metadata": {
    "collapsed": true
   },
   "outputs": [],
   "source": [
    "# instantiate an IMDB object \n",
    "ia = IMDb(accessSystem='http')\n",
    "\n",
    "BOmissingmovies = [] # Tracks movies that we cannot find a match for \n",
    "BOdict = {} # Contains movie information \n",
    "movienumber = len(movie_budget['year'])\n",
    "\n",
    "for i in range(movienumber):\n",
    "    movieobj = None\n",
    "    # Need to process the row-level information out of BOdf in order to get the movie objects\n",
    "    movieobj = ia.search_movie(movie_budget['title'][i])\n",
    "    \n",
    "    #Handling cases where we haven't found the movie or have multiples\n",
    "    if movieobj is None or len(movieobj)>1:\n",
    "        potential_movie_titles = ia.search_movie(movie_budget['title'][i])\n",
    "        movieobj = find_movie(movie_budget['title'][i], movie_budget['year'][i], potential_movie_titles) # find the movie\n",
    "        if type(movieobj) == list: \n",
    "            movieobj = movieobj[0]\n",
    "    \n",
    "    if movieobj is not None and not (type(movieobj) == list and len(movieobj) == 0):\n",
    "        ## Get movie id ##\n",
    "        if type(movieobj) == list: \n",
    "            movieobj = movieobj[0]\n",
    "        ia.update(movieobj)    \n",
    "        movid = movieobj.movieID\n",
    "        ## Populate dictionary, main key is movie id ##\n",
    "        BOdict[movid] = {}\n",
    "        # \"title\": title of movie\n",
    "        BOdict[movid]['title'] = movie_budget['title'][i]\n",
    "        # \"gross\": Domestic Gross Revenue for the movie\n",
    "        BOdict[movid]['gross'] = movie_budget['gross'][i]\n",
    "        # \"opening\": Opening Weekend Revenue\n",
    "        BOdict[movid]['opening'] = movie_budget['opening'][i]\n",
    "        # \"Rank\": Final Rank of Revenue for the Year\n",
    "        BOdict[movid]['rank'] = movie_budget['rank'][i]\n",
    "        # \"studio\": Studio that created the movie\n",
    "        BOdict[movid]['studio'] = movie_budget['studio'][i] \n",
    "        # \"open\": Date that the movie opened on\n",
    "        BOdict[movid]['open'] = movie_budget['open'][i]\n",
    "        # \"close\": Date the movie closed domestically\n",
    "        BOdict[movid]['close'] = movie_budget['close'][i]\n",
    "        # \"opening theaters\": Number of theaters that the movie opened in\n",
    "        BOdict[movid]['opening theaters'] = movie_budget['opening theaters'][i]\n",
    "        # \"year\": Year that the movie was released\n",
    "        BOdict[movid]['year'] = movie_budget['year'][i]\n",
    "        try:\n",
    "            BOdict[movid]['rating'] = movieobj['rating']\n",
    "        except: \n",
    "            BOdict[movid]['rating'] = None\n",
    "        try:\n",
    "            BOdict[movid]['mpaa'] = movieobj['mpaa']\n",
    "        except: \n",
    "            BOdict[movid]['mpaa'] = None\n",
    "        try:\n",
    "            BOdict[movid]['director'] = None\n",
    "        except: \n",
    "            BOdict[movid]['director'] = None\n",
    "        try:\n",
    "            BOdict[movid]['cast'] = None\n",
    "        except:\n",
    "            BOdict[movid]['cast'] = None\n",
    "    else:\n",
    "        BOmissingmovies.append((i, movie_budget['title'][i], movie_budget['year'][i]))"
   ]
  },
  {
   "cell_type": "code",
   "execution_count": null,
   "metadata": {
    "collapsed": true
   },
   "outputs": [],
   "source": [
    "# Add feature describing which season the movie was released in \n",
    "\n",
    "## Our Seasons do not follow the typical calendar seasons, as movie timetables typically\n",
    "## rely on specific months of the year\n",
    "\n",
    "## For example, June-September are usually the 'summer blockbuster' months\n",
    "## Similarly, December is treated on its own since the Holiday season is an important\n",
    "## time for most movies\n",
    "\n",
    "for k in BOdict.keys():\n",
    "    open_date = BOdict[k]['open']\n",
    "    if open_date:\n",
    "        month = int(open_date.split('/')[0])\n",
    "        if month <= 5 and month >= 1:\n",
    "            BOdict[k]['season'] = 'Jan-May'\n",
    "        elif month <= 9 and month >= 6:\n",
    "            BOdict[k]['season'] = 'June-Sep'\n",
    "        elif month <= 11 and month >= 10:\n",
    "            BOdict[k]['season'] = 'Oct-Nov'\n",
    "        elif month == 12: \n",
    "            BOdict[k]['season'] = 'Dec'\n",
    "        else:\n",
    "            BOdict[k]['season'] = None "
   ]
  },
  {
   "cell_type": "code",
   "execution_count": null,
   "metadata": {
    "collapsed": true
   },
   "outputs": [],
   "source": [
    "# Add feature describing the movies budget \n",
    "c = 0\n",
    "for k in BOdict.keys():\n",
    "    for i in range(len(budget['title'])):\n",
    "        if sorted(unicode(budget['title'][i].lower().replace(' ', ''))) == sorted(BOdict[k]['title'].lower().replace(' ','')):\n",
    "            BOdict[k]['budget'] = float(budget['budget'][i][1:].replace(',',''))\n",
    "            break\n",
    "        else:\n",
    "            BOdict[k]['budget'] = None "
   ]
  },
  {
   "cell_type": "code",
   "execution_count": null,
   "metadata": {
    "collapsed": true
   },
   "outputs": [],
   "source": [
    "# Since this took a long time to run, we save it here to ensure it is available for later use. \n",
    "pickle.dump(BOdict, io.open('BOdict.p', 'wb'))"
   ]
  }
 ],
 "metadata": {
  "kernelspec": {
   "display_name": "Python 2",
   "language": "python",
   "name": "python2"
  },
  "language_info": {
   "codemirror_mode": {
    "name": "ipython",
    "version": 2
   },
   "file_extension": ".py",
   "mimetype": "text/x-python",
   "name": "python",
   "nbconvert_exporter": "python",
   "pygments_lexer": "ipython2",
   "version": "2.7.10"
  }
 },
 "nbformat": 4,
 "nbformat_minor": 0
}
