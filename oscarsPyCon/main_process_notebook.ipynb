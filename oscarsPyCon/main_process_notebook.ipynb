{
 "cells": [
  {
   "cell_type": "markdown",
   "metadata": {},
   "source": [
    "# So you want to win an Oscar? \n",
    "### Dana Tomc, Deborah Hanus, Rohan Mazumdar, Steve Buschbach"
   ]
  },
  {
   "cell_type": "markdown",
   "metadata": {},
   "source": [
    "<img width=600 height=400 src=\"http://i.telegraph.co.uk/multimedia/archive/02839/oscars-lupita-22_2839763b.jpg\"/>\n",
    "\n",
    "(Image credit: http://i.telegraph.co.uk/multimedia/archive/02839/oscars-lupita-22_2839763b.jpg)"
   ]
  },
  {
   "cell_type": "markdown",
   "metadata": {},
   "source": [
    "## Overview & Motivation \n",
    "\n"
   ]
  },
  {
   "cell_type": "markdown",
   "metadata": {},
   "source": [
    "So you want to win an Oscar? Do successful movies share certain attributes? \n",
    "\n",
    "Here we explore the factors that correlate with movie success, defined as grossing a hefty chunk of change and/or winning an Oscar. We answer these questions using separate data sets. First, we determine which factors are correlated with a movie financial success, using movie information spanning 2009-2014 that we scraped from [IMDb](http://www.imdb.com/) (using [IMDbpy](http://imdbpy.sourceforge.net)) and financial information from [boxofficemojo.com](http://www.boxofficemojo.com/), [the-numbers.com](http://www.the-numbers.com/movie/budgets/all). Second, to determine the factors correlated with winning a sought after Oscar, we use award information for the years 1981-2006 available via csv on [ya-shin.com](http://www.ya-shin.com/awards/awards.html#oscars) and supplemented it with movie information from [IMDb](http://www.imdb.com/) using [IMDbpy](http://imdbpy.sourceforge.net). "
   ]
  },
  {
   "cell_type": "markdown",
   "metadata": {},
   "source": [
    "## Related Work \n",
    "We were inspired to work on this project, because we want to win an Oscar. After all, who doesn't? To analyze our data, we drew extensively upon the skills that we developed throughout [Harvard's Data Science course](cs109.org), especially regression in lab 4, ensemble methods in lab 7, and the classification methods we used in assignment 3."
   ]
  },
  {
   "cell_type": "markdown",
   "metadata": {},
   "source": [
    "## Initial Questions"
   ]
  },
  {
   "cell_type": "markdown",
   "metadata": {},
   "source": [
    "Initially, our goal was to perform a comprehensive mutli-part analysis to find which attributes might make a movie more likely to win an Oscar from 1980-2015. Our initial goals were as follows: \n",
    "\n",
    "1. Classify actors, directors, and producers as A-list, B-list, and C-list, using clustering algorithms. \n",
    "\n",
    "2. Using data from IMDB, we will predict which movies will be Oscar nominees.  We will perform this prediction on data from both the current year and previous years (1985-2015), so we can see how well our algorithm performs.  Determining the metric of success will be an important first step in the project (i.e. nominated vs. winning).\n",
    "\n",
    "3. In addition to predicting the movie’s success, we will answer a number of questions regarding the factors that might be associated with success. Some questions we will try to answer are: \n",
    "\n",
    "  - Does the time of year that a movie comes out affect the movie’s success? \n",
    "  \n",
    "  - Does the cast & crew matter? \n",
    "\n",
    "  - Does the movie’s budget matter? \n",
    "\n",
    "  - Are there certain plot elements that will make the movies more successful? We will determine this using plot keywords. \n",
    "\n",
    "  - Does the movie’s genre affect its potential for success?  \n",
    "\n",
    "IMDbpy is not capable of retrieving data especially quickly, so this turned out to be a monumental task, which our WiFi bandwidth was not capable of performing for us in the time allowed for this project. Therefore, we decided to focus our analysis around structured data that was  more readily available via other sites such as boxofficemojo, the-numbers, and ya-shin and supplement the movies in these data sets with data from IMDbpy. By narrowing our data set to some of the most popular movies, we expect our data will also be more balanced allowing us to recover a stronger signal in our analyses.  \n",
    "\n",
    "For our analysis of what features are associated with winning an Oscar, we asked the following questions: \n",
    "\n",
    "1. Given that a movie is nominated for an Oscar, can we build a classifier that predicts winners?\n",
    "2. What features are important in this classifier?\n",
    "3. Do movies tend to win at least one Oscar if nominated for a particular the category?\n",
    "\n",
    "For our analysis of what features are associated with a movie's profitability, we asked the following questions: \n",
    "\n",
    "1. Movie Budget: Wealth begets wealth, goes the old adage. For studios looking to make a splash, how important are the investment dollars put against a production?\n",
    "2. Opening Weekend: Film industry experts love the 'Opening Weekend' phenomenon, but just how much does the first 4 days of a movie's release truly matter?\n",
    "3. Opening Theaters: Does the scale of release during the opening weekend affect a movie?\n",
    "4. IMDb rating: Does how 'good' the movie is actually matter? We leverage the IMDb rating as a proxy for the 'inherent level of quality' of the movie.\n",
    "5. Seasonality: How does a release around Christmas or the summer vacation affect the outcomes of a movie?\n",
    "6. MPAA Rating: For the kids, the parents, or the young adults?\n",
    "7. Power Studios: Do movie production houses like Warner Bros. or Universal have a power of their own, besides the factors listed above?"
   ]
  },
  {
   "cell_type": "markdown",
   "metadata": {},
   "source": [
    "## Scraping & Data Acquisition \n",
    "\n",
    "We wrote several helper functions to retrieve the IMDbpy data that we needed for the project. We used these helper functions as we determined the features associated with both movie financial succes and academy award success. We describe these functions in the order they are introduced. As part of this submission, we have included separate notebooks that describe the data scraping and cleaning process. These respective scraping processes insert the required data into pickle files that are leveraged in the analysis later.\n",
    "\n",
    "1. [Movie Profitability Data Scraping](box_office_scraper.ipynb)\n",
    "2. [Oscar Academy Awards Data Scraping](oscar_scraper.ipynb)"
   ]
  },
  {
   "cell_type": "markdown",
   "metadata": {},
   "source": [
    "## Exploratory Data Analysis & Final Analysis "
   ]
  },
  {
   "cell_type": "markdown",
   "metadata": {},
   "source": [
    "Because our datasets did not span the same time range, at this point, our analyses diverged into two mostly separate analyses, which we performed in separate ipython notebooks. \n",
    "\n",
    "1. [Movie profitability EDA & Final Analysis](box_office_process_notebook.ipynb)\n",
    "\n",
    "2. [Oscar Academy Awards EDA & Final Analysis](oscar_process_notebook.ipynb)"
   ]
  },
  {
   "cell_type": "markdown",
   "metadata": {},
   "source": [
    "## Presentation "
   ]
  },
  {
   "cell_type": "markdown",
   "metadata": {},
   "source": [
    "Our results are presented in platable form at [So you want to win an Oscar?](http://oscarpredictor.github.io/)."
   ]
  }
 ],
 "metadata": {
  "kernelspec": {
   "display_name": "Python 2",
   "language": "python",
   "name": "python2"
  },
  "language_info": {
   "codemirror_mode": {
    "name": "ipython",
    "version": 2
   },
   "file_extension": ".py",
   "mimetype": "text/x-python",
   "name": "python",
   "nbconvert_exporter": "python",
   "pygments_lexer": "ipython2",
   "version": "2.7.10"
  }
 },
 "nbformat": 4,
 "nbformat_minor": 0
}
