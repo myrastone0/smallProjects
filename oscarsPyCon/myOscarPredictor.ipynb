{
 "cells": [
  {
   "cell_type": "markdown",
   "metadata": {},
   "source": [
    "<div style=\"text-align: left\"><span style=\"font-family:Times New Roman; font-size:2.2em;\"><font color=\"#E94F64\">Predicting Oscar Winners</font></div>\n",
    "What features of a movie are correlated with box office success?\n",
    "    \n",
    "<a id=\"10\"></a> <br>\n",
    "\n",
    "<div style=\"text-align: left\"><span style=\"font-family:Times New Roman; font-size:2em;\"><font color=\"#E94F64\">Overview</font></div>\n",
    "    \n",
    "1. Data Scraping\n",
    "2. Exploratory Data Analysis\n",
    "    1. Data Overview\n",
    "    2. Visualization\n",
    "    3. Data Preprocessing\n",
    "    4. Data Cleaning\n",
    "3. Model Deployment\n",
    "    1. Training the model(s)\n",
    "\n",
    "<a id=\"10\"></a> <br>"
   ]
  },
  {
   "cell_type": "code",
   "execution_count": 1,
   "metadata": {},
   "outputs": [],
   "source": [
    "import io\n",
    "import time\n",
    "import requests\n",
    "# import math\n",
    "# import operator\n",
    "# import warnings\n",
    "\n",
    "import pickle\n",
    "import numpy as np\n",
    "import scipy as sp\n",
    "import pandas as pd\n",
    "import sklearn.metrics as metrics\n",
    "from bs4 import BeautifulSoup\n",
    "from collections import defaultdict\n",
    "from datetime import datetime\n",
    "\n",
    "import matplotlib as mpl\n",
    "import matplotlib.cm as cm\n",
    "import matplotlib.pyplot as plt\n",
    "import seaborn as sns\n",
    "\n",
    "pd.set_option('display.width', 500)\n",
    "pd.set_option('display.max_columns', 100)\n",
    "pd.set_option('display.notebook_repr_html', True)\n",
    "\n",
    "sns.set_style(\"whitegrid\")\n",
    "sns.set_context(\"poster\")\n",
    "\n",
    "# warnings.filterwarnings('ignore')\n",
    "\n",
    "%matplotlib inline"
   ]
  },
  {
   "cell_type": "markdown",
   "metadata": {},
   "source": [
    "<div style=\"text-align: left\"><span style=\"font-family:Times New Roman; font-size:2em;\"><font color=\"#E94F64\">1. Data Scraping</font></div>"
   ]
  },
  {
   "cell_type": "code",
   "execution_count": null,
   "metadata": {},
   "outputs": [],
   "source": []
  }
 ],
 "metadata": {
  "kernelspec": {
   "display_name": "Python 3",
   "language": "python",
   "name": "python3"
  },
  "language_info": {
   "codemirror_mode": {
    "name": "ipython",
    "version": 3
   },
   "file_extension": ".py",
   "mimetype": "text/x-python",
   "name": "python",
   "nbconvert_exporter": "python",
   "pygments_lexer": "ipython3",
   "version": "3.6.6"
  }
 },
 "nbformat": 4,
 "nbformat_minor": 2
}
